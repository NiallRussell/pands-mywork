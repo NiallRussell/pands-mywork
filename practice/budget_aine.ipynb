{
 "cells": [
  {
   "cell_type": "code",
   "execution_count": 3,
   "metadata": {},
   "outputs": [],
   "source": [
    "monthly_in = 3244\n",
    "\n",
    "rent = 600\n",
    "electricity = 70\n",
    "internet = 20\n",
    "car = 300\n",
    "\n",
    "car_ins = 500/12\n",
    "tax = 200/12\n",
    "\n",
    "health_ins = 170\n",
    "phone = 32\n",
    "\n",
    "gym = 135\n",
    "\n",
    "savings = 1000\n"
   ]
  },
  {
   "cell_type": "code",
   "execution_count": 4,
   "metadata": {},
   "outputs": [
    {
     "data": {
      "text/plain": [
       "2414.3133333333335"
      ]
     },
     "execution_count": 4,
     "metadata": {},
     "output_type": "execute_result"
    }
   ],
   "source": [
    "disney = 14\n",
    "google = 2.99\n",
    "spotify = 11.99\n",
    "subs = disney + google + spotify\n",
    "\n",
    "monthly_out = subs + health_ins + phone + tax + car_ins + car + internet + electricity + rent + gym + savings\n",
    "monthly_out"
   ]
  },
  {
   "cell_type": "code",
   "execution_count": 5,
   "metadata": {},
   "outputs": [
    {
     "data": {
      "text/plain": [
       "829.6866666666665"
      ]
     },
     "execution_count": 5,
     "metadata": {},
     "output_type": "execute_result"
    }
   ],
   "source": [
    "monthly_in - monthly_out"
   ]
  },
  {
   "cell_type": "code",
   "execution_count": 9,
   "metadata": {},
   "outputs": [],
   "source": [
    "current_savings = 18000"
   ]
  },
  {
   "cell_type": "code",
   "execution_count": 12,
   "metadata": {},
   "outputs": [],
   "source": [
    "def path_to_35g(monthly_saving):\n",
    "    goal = 35000\n",
    "\n",
    "    months = round((goal - current_savings)/monthly_saving, 2)\n",
    "    print(f\"You will have 35K in {months} months\")"
   ]
  },
  {
   "cell_type": "code",
   "execution_count": 13,
   "metadata": {},
   "outputs": [
    {
     "name": "stdout",
     "output_type": "stream",
     "text": [
      "You will have 35K in 17.0 months\n"
     ]
    }
   ],
   "source": [
    "path_to_35g(1000)"
   ]
  },
  {
   "cell_type": "code",
   "execution_count": null,
   "metadata": {},
   "outputs": [],
   "source": []
  }
 ],
 "metadata": {
  "kernelspec": {
   "display_name": "base",
   "language": "python",
   "name": "python3"
  },
  "language_info": {
   "codemirror_mode": {
    "name": "ipython",
    "version": 3
   },
   "file_extension": ".py",
   "mimetype": "text/x-python",
   "name": "python",
   "nbconvert_exporter": "python",
   "pygments_lexer": "ipython3",
   "version": "3.11.7"
  }
 },
 "nbformat": 4,
 "nbformat_minor": 2
}
