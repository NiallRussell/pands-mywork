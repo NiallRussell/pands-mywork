{
 "cells": [
  {
   "cell_type": "code",
   "execution_count": 7,
   "metadata": {},
   "outputs": [],
   "source": [
    "from bs4 import BeautifulSoup as BS\n",
    "import requests"
   ]
  },
  {
   "cell_type": "code",
   "execution_count": 8,
   "metadata": {},
   "outputs": [],
   "source": [
    "def get_price(url):\n",
    "    data = requests.get(url)\n",
    "    soup = BS(data.text, \"html.parser\")\n",
    "    ans = soup.find(\"div\", class_ = \"BNeawe s3v9rd AP7Wnd\").text\n",
    "    return ans"
   ]
  },
  {
   "cell_type": "code",
   "execution_count": 2,
   "metadata": {},
   "outputs": [
    {
     "data": {
      "text/plain": [
       "75.94"
      ]
     },
     "execution_count": 2,
     "metadata": {},
     "output_type": "execute_result"
    }
   ],
   "source": [
    "#subscriptions\n",
    "chatgpt = 21.99\n",
    "google = 1.99\n",
    "mfp = 19.99\n",
    "spotify = 12.99\n",
    "ecg = 9.99\n",
    "metal = 8.99\n",
    "\n",
    "\n",
    "subscriptions = chatgpt + google + mfp + spotify + ecg + metal\n",
    "subscriptions"
   ]
  },
  {
   "cell_type": "code",
   "execution_count": null,
   "metadata": {},
   "outputs": [],
   "source": [
    "monthly_in = 2831.73\n",
    "\n",
    "rent = 400\n",
    "#phone_internet = 40\n",
    "phone_internet = 50\n",
    "cu_repay = 200\n",
    "health_ins = 132.7\n",
    "hummm = 31.79\n",
    "student_repay = 78\n",
    "extra = 130\n",
    "\n",
    "monthly_out = rent + phone_internet + cu_repay + health_ins + hummm + student_repay + extra + subscriptions\n",
    "\n",
    "savings = 2050\n",
    "gold = 310\n",
    "\n",
    "cu_loan = 3382.95\n",
    "student_loan = 4000"
   ]
  },
  {
   "cell_type": "code",
   "execution_count": 5,
   "metadata": {},
   "outputs": [
    {
     "data": {
      "text/plain": [
       "1784.24"
      ]
     },
     "execution_count": 5,
     "metadata": {},
     "output_type": "execute_result"
    }
   ],
   "source": [
    "monthly_in-monthly_out"
   ]
  },
  {
   "cell_type": "code",
   "execution_count": 8,
   "metadata": {},
   "outputs": [],
   "source": [
    "#Unique to April\n",
    "allergy_test = 280\n",
    "ent = 200\n",
    "vhi = 102\n",
    "rent_in_advance = 300\n",
    "cc = 420.56\n",
    "current_balance = 111.23+21.43\n",
    "passport = 100"
   ]
  },
  {
   "cell_type": "code",
   "execution_count": 9,
   "metadata": {},
   "outputs": [
    {
     "data": {
      "text/plain": [
       "1386.39"
      ]
     },
     "execution_count": 9,
     "metadata": {},
     "output_type": "execute_result"
    }
   ],
   "source": [
    "leftover_april = monthly_in - monthly_out - cc + current_balance - allergy_test + vhi + rent_in_advance - subscriptions - ent\n",
    "leftover_april"
   ]
  },
  {
   "cell_type": "code",
   "execution_count": 10,
   "metadata": {},
   "outputs": [],
   "source": [
    "saving_april = 600\n",
    "cu_april = 100"
   ]
  },
  {
   "cell_type": "code",
   "execution_count": 11,
   "metadata": {},
   "outputs": [
    {
     "data": {
      "text/plain": [
       "686.3900000000001"
      ]
     },
     "execution_count": 11,
     "metadata": {},
     "output_type": "execute_result"
    }
   ],
   "source": [
    "true_leftover_april = leftover_april - saving_april - cu_april\n",
    "true_leftover_april"
   ]
  },
  {
   "cell_type": "code",
   "execution_count": 81,
   "metadata": {},
   "outputs": [
    {
     "data": {
      "text/plain": [
       "171.59750000000003"
      ]
     },
     "execution_count": 81,
     "metadata": {},
     "output_type": "execute_result"
    }
   ],
   "source": [
    "food = 400\n",
    "travel = 100\n",
    "weekly_budget = true_leftover_april/4\n",
    "weekly_budget"
   ]
  },
  {
   "cell_type": "code",
   "execution_count": 74,
   "metadata": {},
   "outputs": [
    {
     "data": {
      "text/plain": [
       "135200"
      ]
     },
     "execution_count": 74,
     "metadata": {},
     "output_type": "execute_result"
    }
   ],
   "source": [
    "a = 1300*104\n",
    "a"
   ]
  },
  {
   "cell_type": "code",
   "execution_count": 63,
   "metadata": {},
   "outputs": [],
   "source": [
    "def path_to_10g(monthly_saving, loan_repay):\n",
    "    goal = 10000\n",
    "\n",
    "    months = round((goal - savings)/monthly_saving, 2)\n",
    "    months_of_loan = round(cu_loan/(loan_repay + 200), 2)\n",
    "\n",
    "    loan_amount = cu_loan - loan_repay*months_of_loan - 200*months_of_loan\n",
    "    print(f\"You will have 10K in {months} months\")\n",
    "    print(f\"Your loan will be paid off in {months_of_loan} months\")\n",
    "    #if loan_amount >= 199:\n",
    "     #   cu_loan = cu_loan - loan_repay*months_of_loan - 200*months_of_loan\n",
    "    #else:\n",
    "     #   print(\"loan is paid off\")\n",
    "\n",
    "    #el loan_amount <= 0:\n",
    "     #   print(\"loan is paid off\")\n",
    "    #else:\n",
    "     #   print(f\"There is {loan_amount} left to pay\")\n",
    "    #print(f\"You will reach your goal in {months} months\")\n"
   ]
  },
  {
   "cell_type": "code",
   "execution_count": 72,
   "metadata": {},
   "outputs": [
    {
     "name": "stdout",
     "output_type": "stream",
     "text": [
      "You will have 10K in 13.25 months\n",
      "Your loan will be paid off in 11.28 months\n"
     ]
    }
   ],
   "source": [
    "path_to_10g(600, 100)"
   ]
  },
  {
   "cell_type": "code",
   "execution_count": 5,
   "metadata": {},
   "outputs": [],
   "source": [
    "def saving_adjustment(repay_amount, add_save):\n",
    "    global savings\n",
    "    global cu_loan\n",
    "    new_cu = cu_loan - repay_amount\n",
    "    new_savings = savings - repay_amount + add_save\n",
    "    cu_loan = new_cu\n",
    "    savings = new_savings\n",
    "    print(f\"\"\"CU Loan balance is {cu_loan} \n",
    "Savings balance is {savings}\"\"\")"
   ]
  },
  {
   "cell_type": "code",
   "execution_count": 53,
   "metadata": {},
   "outputs": [
    {
     "name": "stdout",
     "output_type": "stream",
     "text": [
      "CU Loan balance is 2382.95 \n",
      "Savings balance is 1217.73\n"
     ]
    }
   ],
   "source": [
    "saving_adjustment(1000, 0)"
   ]
  },
  {
   "cell_type": "code",
   "execution_count": 6,
   "metadata": {},
   "outputs": [],
   "source": [
    "def monthly_repayments(month):\n",
    "    cu = cu_loan - (cu_repay*month)\n",
    "    sl = student_loan - (student_repay*month)\n",
    "    return cu, sl"
   ]
  },
  {
   "cell_type": "code",
   "execution_count": null,
   "metadata": {},
   "outputs": [],
   "source": [
    "goal_cu = 0\n",
    "goal_savings = 10000"
   ]
  },
  {
   "cell_type": "code",
   "execution_count": 7,
   "metadata": {},
   "outputs": [
    {
     "data": {
      "text/plain": [
       "(982.9499999999998, 3064)"
      ]
     },
     "execution_count": 7,
     "metadata": {},
     "output_type": "execute_result"
    }
   ],
   "source": [
    "monthly_repayments(12)"
   ]
  },
  {
   "cell_type": "code",
   "execution_count": 34,
   "metadata": {},
   "outputs": [
    {
     "name": "stdout",
     "output_type": "stream",
     "text": [
      "12.970450000000001\n",
      "11.276499999999999\n"
     ]
    }
   ],
   "source": [
    "path_to_10g(600, 100)"
   ]
  },
  {
   "cell_type": "code",
   "execution_count": 13,
   "metadata": {},
   "outputs": [],
   "source": [
    "groceries1 = 17.58 + 38.92 + 8.89 + 6 + 1.95 + 6 + 57.38 + 8.55 + 8.94 + 47.19\n",
    "travel1 = 14.6 + 14.2 + 20 + 24.6 + 10 + 26.4\n",
    "food_out1 = 6.1 + 7 + 5 + 3.5 + 4.65 + 5 + 6.1 + 4 + 4\n",
    "pharmacy1 = 34.2 + 40.33\n",
    "clothes_etcm1 = 8\n",
    "phone1 = 20\n",
    "passport1 = 100\n",
    "subs1 = 15.99 + 9.99 + 10.82 + 11.99\n",
    "weed1 = 150\n",
    "ent1 = 200\n",
    "\n"
   ]
  },
  {
   "cell_type": "code",
   "execution_count": null,
   "metadata": {},
   "outputs": [
    {
     "data": {
      "text/plain": [
       "957.87"
      ]
     },
     "execution_count": 2,
     "metadata": {},
     "output_type": "execute_result"
    }
   ],
   "source": [
    "totalspent = groceries1 + travel1 + food_out1 + pharmacy1 + clothes_etcm1 + phone1 + passport1 + subs1 + weed1 + ent1"
   ]
  },
  {
   "cell_type": "code",
   "execution_count": 14,
   "metadata": {},
   "outputs": [
    {
     "data": {
      "text/plain": [
       "439.08000000000004"
      ]
     },
     "execution_count": 14,
     "metadata": {},
     "output_type": "execute_result"
    }
   ],
   "source": [
    "groceries1 + travel1 +clothes_etcm1 + pharmacy1 + food_out1"
   ]
  },
  {
   "cell_type": "code",
   "execution_count": null,
   "metadata": {},
   "outputs": [
    {
     "data": {
      "text/plain": [
       "109.80000000000001"
      ]
     },
     "execution_count": 5,
     "metadata": {},
     "output_type": "execute_result"
    }
   ],
   "source": [
    "groceries1\n",
    "food_out1\n",
    "travel1"
   ]
  },
  {
   "cell_type": "code",
   "execution_count": null,
   "metadata": {},
   "outputs": [],
   "source": [
    "#Unique to April\n",
    "allergy_test = 280\n",
    "ent = 200\n",
    "vhi = 102\n",
    "rent_in_advance = 300\n",
    "cc = 420.56\n",
    "current_balance = 111.23+21.43\n",
    "passport = 100"
   ]
  },
  {
   "cell_type": "code",
   "execution_count": 1,
   "metadata": {},
   "outputs": [
    {
     "data": {
      "text/plain": [
       "169.81000000000006"
      ]
     },
     "execution_count": 1,
     "metadata": {},
     "output_type": "execute_result"
    }
   ],
   "source": [
    "781.1 - (112+499.29)"
   ]
  },
  {
   "cell_type": "code",
   "execution_count": null,
   "metadata": {},
   "outputs": [
    {
     "data": {
      "text/plain": [
       "2831.73"
      ]
     },
     "execution_count": 7,
     "metadata": {},
     "output_type": "execute_result"
    }
   ],
   "source": [
    "#Unique to May\n",
    "cc = 180\n",
    "\n"
   ]
  },
  {
   "cell_type": "code",
   "execution_count": 8,
   "metadata": {},
   "outputs": [
    {
     "data": {
      "text/plain": [
       "836.24"
      ]
     },
     "execution_count": 8,
     "metadata": {},
     "output_type": "execute_result"
    }
   ],
   "source": [
    "leftover_may = monthly_in - monthly_out - cc + vhi -700\n",
    "leftover_may"
   ]
  },
  {
   "cell_type": "code",
   "execution_count": 9,
   "metadata": {},
   "outputs": [
    {
     "data": {
      "text/plain": [
       "209.06"
      ]
     },
     "execution_count": 9,
     "metadata": {},
     "output_type": "execute_result"
    }
   ],
   "source": [
    "leftover_may/4"
   ]
  },
  {
   "cell_type": "code",
   "execution_count": null,
   "metadata": {},
   "outputs": [],
   "source": []
  }
 ],
 "metadata": {
  "kernelspec": {
   "display_name": "base",
   "language": "python",
   "name": "python3"
  },
  "language_info": {
   "codemirror_mode": {
    "name": "ipython",
    "version": 3
   },
   "file_extension": ".py",
   "mimetype": "text/x-python",
   "name": "python",
   "nbconvert_exporter": "python",
   "pygments_lexer": "ipython3",
   "version": "3.11.7"
  }
 },
 "nbformat": 4,
 "nbformat_minor": 2
}
