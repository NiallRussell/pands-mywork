{
 "cells": [
  {
   "cell_type": "code",
   "execution_count": 17,
   "metadata": {},
   "outputs": [],
   "source": [
    "import pandas as pd"
   ]
  },
  {
   "cell_type": "code",
   "execution_count": 18,
   "metadata": {},
   "outputs": [],
   "source": [
    "df = pd.read_csv(\"https://datahub.io/core/co2-ppm/_r/-/data/co2-mm-mlo.csv\")"
   ]
  },
  {
   "cell_type": "code",
   "execution_count": 19,
   "metadata": {},
   "outputs": [
    {
     "data": {
      "text/html": [
       "<div>\n",
       "<style scoped>\n",
       "    .dataframe tbody tr th:only-of-type {\n",
       "        vertical-align: middle;\n",
       "    }\n",
       "\n",
       "    .dataframe tbody tr th {\n",
       "        vertical-align: top;\n",
       "    }\n",
       "\n",
       "    .dataframe thead th {\n",
       "        text-align: right;\n",
       "    }\n",
       "</style>\n",
       "<table border=\"1\" class=\"dataframe\">\n",
       "  <thead>\n",
       "    <tr style=\"text-align: right;\">\n",
       "      <th></th>\n",
       "      <th>Date</th>\n",
       "      <th>Decimal Date</th>\n",
       "      <th>Average</th>\n",
       "      <th>Interpolated</th>\n",
       "      <th>Trend</th>\n",
       "      <th>Number of Days</th>\n",
       "    </tr>\n",
       "  </thead>\n",
       "  <tbody>\n",
       "    <tr>\n",
       "      <th>1958-03</th>\n",
       "      <td>1958.2027</td>\n",
       "      <td>315.71</td>\n",
       "      <td>314.44</td>\n",
       "      <td>-1</td>\n",
       "      <td>-9.99</td>\n",
       "      <td>-0.99</td>\n",
       "    </tr>\n",
       "    <tr>\n",
       "      <th>1958-04</th>\n",
       "      <td>1958.2877</td>\n",
       "      <td>317.45</td>\n",
       "      <td>315.16</td>\n",
       "      <td>-1</td>\n",
       "      <td>-9.99</td>\n",
       "      <td>-0.99</td>\n",
       "    </tr>\n",
       "    <tr>\n",
       "      <th>1958-05</th>\n",
       "      <td>1958.3699</td>\n",
       "      <td>317.51</td>\n",
       "      <td>314.69</td>\n",
       "      <td>-1</td>\n",
       "      <td>-9.99</td>\n",
       "      <td>-0.99</td>\n",
       "    </tr>\n",
       "    <tr>\n",
       "      <th>1958-06</th>\n",
       "      <td>1958.4548</td>\n",
       "      <td>317.27</td>\n",
       "      <td>315.15</td>\n",
       "      <td>-1</td>\n",
       "      <td>-9.99</td>\n",
       "      <td>-0.99</td>\n",
       "    </tr>\n",
       "    <tr>\n",
       "      <th>1958-07</th>\n",
       "      <td>1958.5370</td>\n",
       "      <td>315.87</td>\n",
       "      <td>315.20</td>\n",
       "      <td>-1</td>\n",
       "      <td>-9.99</td>\n",
       "      <td>-0.99</td>\n",
       "    </tr>\n",
       "    <tr>\n",
       "      <th>...</th>\n",
       "      <td>...</td>\n",
       "      <td>...</td>\n",
       "      <td>...</td>\n",
       "      <td>...</td>\n",
       "      <td>...</td>\n",
       "      <td>...</td>\n",
       "    </tr>\n",
       "    <tr>\n",
       "      <th>2024-05</th>\n",
       "      <td>2024.3750</td>\n",
       "      <td>426.90</td>\n",
       "      <td>423.63</td>\n",
       "      <td>29</td>\n",
       "      <td>0.76</td>\n",
       "      <td>0.27</td>\n",
       "    </tr>\n",
       "    <tr>\n",
       "      <th>2024-06</th>\n",
       "      <td>2024.4583</td>\n",
       "      <td>426.91</td>\n",
       "      <td>424.46</td>\n",
       "      <td>20</td>\n",
       "      <td>0.65</td>\n",
       "      <td>0.28</td>\n",
       "    </tr>\n",
       "    <tr>\n",
       "      <th>2024-07</th>\n",
       "      <td>2024.5417</td>\n",
       "      <td>425.55</td>\n",
       "      <td>425.09</td>\n",
       "      <td>24</td>\n",
       "      <td>0.69</td>\n",
       "      <td>0.27</td>\n",
       "    </tr>\n",
       "    <tr>\n",
       "      <th>2024-08</th>\n",
       "      <td>2024.6250</td>\n",
       "      <td>422.99</td>\n",
       "      <td>424.80</td>\n",
       "      <td>22</td>\n",
       "      <td>1.08</td>\n",
       "      <td>0.44</td>\n",
       "    </tr>\n",
       "    <tr>\n",
       "      <th>2024-09</th>\n",
       "      <td>2024.7083</td>\n",
       "      <td>422.03</td>\n",
       "      <td>425.46</td>\n",
       "      <td>18</td>\n",
       "      <td>0.38</td>\n",
       "      <td>0.17</td>\n",
       "    </tr>\n",
       "  </tbody>\n",
       "</table>\n",
       "<p>799 rows × 6 columns</p>\n",
       "</div>"
      ],
      "text/plain": [
       "              Date  Decimal Date  Average  Interpolated  Trend  Number of Days\n",
       "1958-03  1958.2027        315.71   314.44            -1  -9.99           -0.99\n",
       "1958-04  1958.2877        317.45   315.16            -1  -9.99           -0.99\n",
       "1958-05  1958.3699        317.51   314.69            -1  -9.99           -0.99\n",
       "1958-06  1958.4548        317.27   315.15            -1  -9.99           -0.99\n",
       "1958-07  1958.5370        315.87   315.20            -1  -9.99           -0.99\n",
       "...            ...           ...      ...           ...    ...             ...\n",
       "2024-05  2024.3750        426.90   423.63            29   0.76            0.27\n",
       "2024-06  2024.4583        426.91   424.46            20   0.65            0.28\n",
       "2024-07  2024.5417        425.55   425.09            24   0.69            0.27\n",
       "2024-08  2024.6250        422.99   424.80            22   1.08            0.44\n",
       "2024-09  2024.7083        422.03   425.46            18   0.38            0.17\n",
       "\n",
       "[799 rows x 6 columns]"
      ]
     },
     "execution_count": 19,
     "metadata": {},
     "output_type": "execute_result"
    }
   ],
   "source": [
    "df"
   ]
  },
  {
   "cell_type": "code",
   "execution_count": 20,
   "metadata": {},
   "outputs": [
    {
     "data": {
      "text/html": [
       "<div>\n",
       "<style scoped>\n",
       "    .dataframe tbody tr th:only-of-type {\n",
       "        vertical-align: middle;\n",
       "    }\n",
       "\n",
       "    .dataframe tbody tr th {\n",
       "        vertical-align: top;\n",
       "    }\n",
       "\n",
       "    .dataframe thead th {\n",
       "        text-align: right;\n",
       "    }\n",
       "</style>\n",
       "<table border=\"1\" class=\"dataframe\">\n",
       "  <thead>\n",
       "    <tr style=\"text-align: right;\">\n",
       "      <th></th>\n",
       "      <th>Date</th>\n",
       "      <th>Interpolated</th>\n",
       "    </tr>\n",
       "  </thead>\n",
       "  <tbody>\n",
       "    <tr>\n",
       "      <th>1958-03</th>\n",
       "      <td>1958.2027</td>\n",
       "      <td>-1</td>\n",
       "    </tr>\n",
       "    <tr>\n",
       "      <th>1958-04</th>\n",
       "      <td>1958.2877</td>\n",
       "      <td>-1</td>\n",
       "    </tr>\n",
       "    <tr>\n",
       "      <th>1958-05</th>\n",
       "      <td>1958.3699</td>\n",
       "      <td>-1</td>\n",
       "    </tr>\n",
       "  </tbody>\n",
       "</table>\n",
       "</div>"
      ],
      "text/plain": [
       "              Date  Interpolated\n",
       "1958-03  1958.2027            -1\n",
       "1958-04  1958.2877            -1\n",
       "1958-05  1958.3699            -1"
      ]
     },
     "execution_count": 20,
     "metadata": {},
     "output_type": "execute_result"
    }
   ],
   "source": [
    "fields = ['Date', 'Interpolated']\n",
    "df = pd.read_csv(\"https://datahub.io/core/co2-ppm/_r/-/data/co2-mm-mlo.csv\", usecols = fields)\n",
    "df.head(3)"
   ]
  },
  {
   "cell_type": "code",
   "execution_count": 21,
   "metadata": {},
   "outputs": [
    {
     "data": {
      "text/html": [
       "<div>\n",
       "<style scoped>\n",
       "    .dataframe tbody tr th:only-of-type {\n",
       "        vertical-align: middle;\n",
       "    }\n",
       "\n",
       "    .dataframe tbody tr th {\n",
       "        vertical-align: top;\n",
       "    }\n",
       "\n",
       "    .dataframe thead th {\n",
       "        text-align: right;\n",
       "    }\n",
       "</style>\n",
       "<table border=\"1\" class=\"dataframe\">\n",
       "  <thead>\n",
       "    <tr style=\"text-align: right;\">\n",
       "      <th></th>\n",
       "      <th>Date</th>\n",
       "      <th>DD</th>\n",
       "      <th>Ave</th>\n",
       "      <th>Interpolated</th>\n",
       "      <th>Trend</th>\n",
       "      <th>Num Days</th>\n",
       "      <th>extra</th>\n",
       "    </tr>\n",
       "  </thead>\n",
       "  <tbody>\n",
       "    <tr>\n",
       "      <th>0</th>\n",
       "      <td>1958-03</td>\n",
       "      <td>1958.2027</td>\n",
       "      <td>315.71</td>\n",
       "      <td>314.44</td>\n",
       "      <td>-1</td>\n",
       "      <td>-9.99</td>\n",
       "      <td>-0.99</td>\n",
       "    </tr>\n",
       "    <tr>\n",
       "      <th>1</th>\n",
       "      <td>1958-04</td>\n",
       "      <td>1958.2877</td>\n",
       "      <td>317.45</td>\n",
       "      <td>315.16</td>\n",
       "      <td>-1</td>\n",
       "      <td>-9.99</td>\n",
       "      <td>-0.99</td>\n",
       "    </tr>\n",
       "    <tr>\n",
       "      <th>2</th>\n",
       "      <td>1958-05</td>\n",
       "      <td>1958.3699</td>\n",
       "      <td>317.51</td>\n",
       "      <td>314.69</td>\n",
       "      <td>-1</td>\n",
       "      <td>-9.99</td>\n",
       "      <td>-0.99</td>\n",
       "    </tr>\n",
       "  </tbody>\n",
       "</table>\n",
       "</div>"
      ],
      "text/plain": [
       "      Date         DD     Ave  Interpolated  Trend  Num Days  extra\n",
       "0  1958-03  1958.2027  315.71        314.44     -1     -9.99  -0.99\n",
       "1  1958-04  1958.2877  317.45        315.16     -1     -9.99  -0.99\n",
       "2  1958-05  1958.3699  317.51        314.69     -1     -9.99  -0.99"
      ]
     },
     "execution_count": 21,
     "metadata": {},
     "output_type": "execute_result"
    }
   ],
   "source": [
    "names = ['Date', \"DD\", \"Ave\", \"Interpolated\", \"Trend\", \"Num Days\",\"extra\"]\n",
    "df = pd.read_csv(\"https://datahub.io/core/co2-ppm/_r/-/data/co2-mm-mlo.csv\",header= None, names = names, skiprows=1)\n",
    "df.head(3)"
   ]
  },
  {
   "cell_type": "code",
   "execution_count": 22,
   "metadata": {},
   "outputs": [
    {
     "data": {
      "text/plain": [
       "0      1958-03\n",
       "1      1958-04\n",
       "2      1958-05\n",
       "3      1958-06\n",
       "4      1958-07\n",
       "        ...   \n",
       "794    2024-05\n",
       "795    2024-06\n",
       "796    2024-07\n",
       "797    2024-08\n",
       "798    2024-09\n",
       "Name: Date, Length: 799, dtype: object"
      ]
     },
     "execution_count": 22,
     "metadata": {},
     "output_type": "execute_result"
    }
   ],
   "source": [
    "\n",
    "df[\"Date\"]"
   ]
  },
  {
   "cell_type": "code",
   "execution_count": 23,
   "metadata": {},
   "outputs": [
    {
     "data": {
      "text/plain": [
       "0     1958-03-01\n",
       "1     1958-04-01\n",
       "2     1958-05-01\n",
       "3     1958-06-01\n",
       "4     1958-07-01\n",
       "         ...    \n",
       "794   2024-05-01\n",
       "795   2024-06-01\n",
       "796   2024-07-01\n",
       "797   2024-08-01\n",
       "798   2024-09-01\n",
       "Name: Date, Length: 799, dtype: datetime64[ns]"
      ]
     },
     "execution_count": 23,
     "metadata": {},
     "output_type": "execute_result"
    }
   ],
   "source": [
    "pd.to_datetime(df['Date'])"
   ]
  },
  {
   "cell_type": "code",
   "execution_count": 24,
   "metadata": {},
   "outputs": [],
   "source": [
    "df[\"Date\"]= pd.to_datetime(df['Date'])"
   ]
  },
  {
   "cell_type": "code",
   "execution_count": 25,
   "metadata": {},
   "outputs": [
    {
     "data": {
      "text/plain": [
       "0     1958-03-01\n",
       "1     1958-04-01\n",
       "2     1958-05-01\n",
       "3     1958-06-01\n",
       "4     1958-07-01\n",
       "         ...    \n",
       "794   2024-05-01\n",
       "795   2024-06-01\n",
       "796   2024-07-01\n",
       "797   2024-08-01\n",
       "798   2024-09-01\n",
       "Name: Date, Length: 799, dtype: datetime64[ns]"
      ]
     },
     "execution_count": 25,
     "metadata": {},
     "output_type": "execute_result"
    }
   ],
   "source": [
    "df[\"Date\"]"
   ]
  },
  {
   "cell_type": "code",
   "execution_count": 26,
   "metadata": {},
   "outputs": [],
   "source": [
    "import seaborn as sns"
   ]
  },
  {
   "cell_type": "code",
   "execution_count": 27,
   "metadata": {},
   "outputs": [
    {
     "data": {
      "text/plain": [
       "<Axes: xlabel='Date', ylabel='Ave'>"
      ]
     },
     "execution_count": 27,
     "metadata": {},
     "output_type": "execute_result"
    },
    {
     "data": {
      "image/png": "[encoded data removed]",
      "text/plain": [
       "<Figure size 640x480 with 1 Axes>"
      ]
     },
     "metadata": {},
     "output_type": "display_data"
    }
   ],
   "source": [
    "sns.lineplot(data = df, x = \"Date\", y = \"Ave\")"
   ]
  },
  {
   "cell_type": "code",
   "execution_count": 28,
   "metadata": {},
   "outputs": [
    {
     "data": {
      "text/plain": [
       "<Axes: xlabel='Date', ylabel='Ave'>"
      ]
     },
     "execution_count": 28,
     "metadata": {},
     "output_type": "execute_result"
    },
    {
     "data": {
      "image/png": "[encoded data removed]",
      "text/plain": [
       "<Figure size 640x480 with 1 Axes>"
      ]
     },
     "metadata": {},
     "output_type": "display_data"
    }
   ],
   "source": [
    "sns.lineplot(data = df.iloc[1:12], x = \"Date\", y = \"Ave\")"
   ]
  },
  {
   "cell_type": "code",
   "execution_count": 29,
   "metadata": {},
   "outputs": [
    {
     "data": {
      "text/plain": [
       "<Axes: xlabel='Date', ylabel='Interpolated'>"
      ]
     },
     "execution_count": 29,
     "metadata": {},
     "output_type": "execute_result"
    },
    {
     "data": {
      "image/png": "[encoded data removed]",
      "text/plain": [
       "<Figure size 640x480 with 1 Axes>"
      ]
     },
     "metadata": {},
     "output_type": "display_data"
    }
   ],
   "source": [
    "sns.lineplot(data=df, x=\"Date\", y=\"Interpolated\")"
   ]
  },
  {
   "cell_type": "code",
   "execution_count": 31,
   "metadata": {},
   "outputs": [],
   "source": [
    "df = pd.read_csv(\"https://cli.fusio.net/cli/climate_data/webdata/mly4935.csv\", skiprows=19)"
   ]
  },
  {
   "cell_type": "code",
   "execution_count": 32,
   "metadata": {},
   "outputs": [
    {
     "data": {
      "text/html": [
       "<div>\n",
       "<style scoped>\n",
       "    .dataframe tbody tr th:only-of-type {\n",
       "        vertical-align: middle;\n",
       "    }\n",
       "\n",
       "    .dataframe tbody tr th {\n",
       "        vertical-align: top;\n",
       "    }\n",
       "\n",
       "    .dataframe thead th {\n",
       "        text-align: right;\n",
       "    }\n",
       "</style>\n",
       "<table border=\"1\" class=\"dataframe\">\n",
       "  <thead>\n",
       "    <tr style=\"text-align: right;\">\n",
       "      <th></th>\n",
       "      <th>year</th>\n",
       "      <th>month</th>\n",
       "      <th>meant</th>\n",
       "      <th>maxtp</th>\n",
       "      <th>mintp</th>\n",
       "      <th>mnmax</th>\n",
       "      <th>mnmin</th>\n",
       "      <th>rain</th>\n",
       "      <th>gmin</th>\n",
       "      <th>wdsp</th>\n",
       "      <th>maxgt</th>\n",
       "      <th>sun</th>\n",
       "    </tr>\n",
       "  </thead>\n",
       "  <tbody>\n",
       "    <tr>\n",
       "      <th>0</th>\n",
       "      <td>1996</td>\n",
       "      <td>8</td>\n",
       "      <td>13.4</td>\n",
       "      <td>20.4</td>\n",
       "      <td>7.3</td>\n",
       "      <td>16.6</td>\n",
       "      <td>10.3</td>\n",
       "      <td>109.4</td>\n",
       "      <td>5.3</td>\n",
       "      <td>8.3</td>\n",
       "      <td>34</td>\n",
       "      <td></td>\n",
       "    </tr>\n",
       "    <tr>\n",
       "      <th>1</th>\n",
       "      <td>1996</td>\n",
       "      <td>10</td>\n",
       "      <td>9.7</td>\n",
       "      <td></td>\n",
       "      <td></td>\n",
       "      <td>12.5</td>\n",
       "      <td>7.0</td>\n",
       "      <td></td>\n",
       "      <td></td>\n",
       "      <td></td>\n",
       "      <td></td>\n",
       "      <td></td>\n",
       "    </tr>\n",
       "    <tr>\n",
       "      <th>2</th>\n",
       "      <td>1996</td>\n",
       "      <td>11</td>\n",
       "      <td>5.0</td>\n",
       "      <td></td>\n",
       "      <td></td>\n",
       "      <td>7.6</td>\n",
       "      <td>2.5</td>\n",
       "      <td></td>\n",
       "      <td></td>\n",
       "      <td></td>\n",
       "      <td></td>\n",
       "      <td></td>\n",
       "    </tr>\n",
       "  </tbody>\n",
       "</table>\n",
       "</div>"
      ],
      "text/plain": [
       "   year  month  meant maxtp mintp  mnmax  mnmin   rain gmin wdsp maxgt sun\n",
       "0  1996      8   13.4  20.4   7.3   16.6   10.3  109.4  5.3  8.3    34    \n",
       "1  1996     10    9.7               12.5    7.0                           \n",
       "2  1996     11    5.0                7.6    2.5                           "
      ]
     },
     "execution_count": 32,
     "metadata": {},
     "output_type": "execute_result"
    }
   ],
   "source": [
    "df.head(3)"
   ]
  },
  {
   "cell_type": "code",
   "execution_count": 33,
   "metadata": {},
   "outputs": [
    {
     "ename": "ValueError",
     "evalue": "to assemble mappings requires at least that [year, month, day] be specified: [day] is missing",
     "output_type": "error",
     "traceback": [
      "\u001b[1;31m---------------------------------------------------------------------------\u001b[0m",
      "\u001b[1;31mValueError\u001b[0m                                Traceback (most recent call last)",
      "Cell \u001b[1;32mIn[33], line 1\u001b[0m\n\u001b[1;32m----> 1\u001b[0m pd\u001b[38;5;241m.\u001b[39mto_datetime(df[[\u001b[38;5;124m\"\u001b[39m\u001b[38;5;124myear\u001b[39m\u001b[38;5;124m\"\u001b[39m, \u001b[38;5;124m\"\u001b[39m\u001b[38;5;124mmonth\u001b[39m\u001b[38;5;124m\"\u001b[39m]])\n",
      "File \u001b[1;32mc:\\Users\\Niall.Russell\\AppData\\Local\\anaconda3\\Lib\\site-packages\\pandas\\core\\tools\\datetimes.py:1070\u001b[0m, in \u001b[0;36mto_datetime\u001b[1;34m(arg, errors, dayfirst, yearfirst, utc, format, exact, unit, infer_datetime_format, origin, cache)\u001b[0m\n\u001b[0;32m   1068\u001b[0m         result \u001b[38;5;241m=\u001b[39m arg\u001b[38;5;241m.\u001b[39m_constructor(values, index\u001b[38;5;241m=\u001b[39marg\u001b[38;5;241m.\u001b[39mindex, name\u001b[38;5;241m=\u001b[39marg\u001b[38;5;241m.\u001b[39mname)\n\u001b[0;32m   1069\u001b[0m \u001b[38;5;28;01melif\u001b[39;00m \u001b[38;5;28misinstance\u001b[39m(arg, (ABCDataFrame, abc\u001b[38;5;241m.\u001b[39mMutableMapping)):\n\u001b[1;32m-> 1070\u001b[0m     result \u001b[38;5;241m=\u001b[39m _assemble_from_unit_mappings(arg, errors, utc)\n\u001b[0;32m   1071\u001b[0m \u001b[38;5;28;01melif\u001b[39;00m \u001b[38;5;28misinstance\u001b[39m(arg, Index):\n\u001b[0;32m   1072\u001b[0m     cache_array \u001b[38;5;241m=\u001b[39m _maybe_cache(arg, \u001b[38;5;28mformat\u001b[39m, cache, convert_listlike)\n",
      "File \u001b[1;32mc:\\Users\\Niall.Russell\\AppData\\Local\\anaconda3\\Lib\\site-packages\\pandas\\core\\tools\\datetimes.py:1186\u001b[0m, in \u001b[0;36m_assemble_from_unit_mappings\u001b[1;34m(arg, errors, utc)\u001b[0m\n\u001b[0;32m   1184\u001b[0m \u001b[38;5;28;01mif\u001b[39;00m \u001b[38;5;28mlen\u001b[39m(req):\n\u001b[0;32m   1185\u001b[0m     _required \u001b[38;5;241m=\u001b[39m \u001b[38;5;124m\"\u001b[39m\u001b[38;5;124m,\u001b[39m\u001b[38;5;124m\"\u001b[39m\u001b[38;5;241m.\u001b[39mjoin(req)\n\u001b[1;32m-> 1186\u001b[0m     \u001b[38;5;28;01mraise\u001b[39;00m \u001b[38;5;167;01mValueError\u001b[39;00m(\n\u001b[0;32m   1187\u001b[0m         \u001b[38;5;124m\"\u001b[39m\u001b[38;5;124mto assemble mappings requires at least that \u001b[39m\u001b[38;5;124m\"\u001b[39m\n\u001b[0;32m   1188\u001b[0m         \u001b[38;5;124mf\u001b[39m\u001b[38;5;124m\"\u001b[39m\u001b[38;5;124m[year, month, day] be specified: [\u001b[39m\u001b[38;5;132;01m{\u001b[39;00m_required\u001b[38;5;132;01m}\u001b[39;00m\u001b[38;5;124m] is missing\u001b[39m\u001b[38;5;124m\"\u001b[39m\n\u001b[0;32m   1189\u001b[0m     )\n\u001b[0;32m   1191\u001b[0m \u001b[38;5;66;03m# keys we don't recognize\u001b[39;00m\n\u001b[0;32m   1192\u001b[0m excess \u001b[38;5;241m=\u001b[39m \u001b[38;5;28msorted\u001b[39m(\u001b[38;5;28mset\u001b[39m(unit_rev\u001b[38;5;241m.\u001b[39mkeys()) \u001b[38;5;241m-\u001b[39m \u001b[38;5;28mset\u001b[39m(_unit_map\u001b[38;5;241m.\u001b[39mvalues()))\n",
      "\u001b[1;31mValueError\u001b[0m: to assemble mappings requires at least that [year, month, day] be specified: [day] is missing"
     ]
    }
   ],
   "source": [
    "pd.to_datetime(df[[\"year\", \"month\"]])"
   ]
  },
  {
   "cell_type": "code",
   "execution_count": 35,
   "metadata": {},
   "outputs": [
    {
     "data": {
      "text/html": [
       "<div>\n",
       "<style scoped>\n",
       "    .dataframe tbody tr th:only-of-type {\n",
       "        vertical-align: middle;\n",
       "    }\n",
       "\n",
       "    .dataframe tbody tr th {\n",
       "        vertical-align: top;\n",
       "    }\n",
       "\n",
       "    .dataframe thead th {\n",
       "        text-align: right;\n",
       "    }\n",
       "</style>\n",
       "<table border=\"1\" class=\"dataframe\">\n",
       "  <thead>\n",
       "    <tr style=\"text-align: right;\">\n",
       "      <th></th>\n",
       "      <th>year</th>\n",
       "      <th>month</th>\n",
       "      <th>meant</th>\n",
       "      <th>maxtp</th>\n",
       "      <th>mintp</th>\n",
       "      <th>mnmax</th>\n",
       "      <th>mnmin</th>\n",
       "      <th>rain</th>\n",
       "      <th>gmin</th>\n",
       "      <th>wdsp</th>\n",
       "      <th>maxgt</th>\n",
       "      <th>sun</th>\n",
       "      <th>day</th>\n",
       "    </tr>\n",
       "  </thead>\n",
       "  <tbody>\n",
       "    <tr>\n",
       "      <th>0</th>\n",
       "      <td>1996</td>\n",
       "      <td>8</td>\n",
       "      <td>13.4</td>\n",
       "      <td>20.4</td>\n",
       "      <td>7.3</td>\n",
       "      <td>16.6</td>\n",
       "      <td>10.3</td>\n",
       "      <td>109.4</td>\n",
       "      <td>5.3</td>\n",
       "      <td>8.3</td>\n",
       "      <td>34</td>\n",
       "      <td></td>\n",
       "      <td>1</td>\n",
       "    </tr>\n",
       "    <tr>\n",
       "      <th>1</th>\n",
       "      <td>1996</td>\n",
       "      <td>10</td>\n",
       "      <td>9.7</td>\n",
       "      <td></td>\n",
       "      <td></td>\n",
       "      <td>12.5</td>\n",
       "      <td>7.0</td>\n",
       "      <td></td>\n",
       "      <td></td>\n",
       "      <td></td>\n",
       "      <td></td>\n",
       "      <td></td>\n",
       "      <td>1</td>\n",
       "    </tr>\n",
       "    <tr>\n",
       "      <th>2</th>\n",
       "      <td>1996</td>\n",
       "      <td>11</td>\n",
       "      <td>5.0</td>\n",
       "      <td></td>\n",
       "      <td></td>\n",
       "      <td>7.6</td>\n",
       "      <td>2.5</td>\n",
       "      <td></td>\n",
       "      <td></td>\n",
       "      <td></td>\n",
       "      <td></td>\n",
       "      <td></td>\n",
       "      <td>1</td>\n",
       "    </tr>\n",
       "  </tbody>\n",
       "</table>\n",
       "</div>"
      ],
      "text/plain": [
       "   year  month  meant maxtp mintp  mnmax  mnmin   rain gmin wdsp maxgt sun  \\\n",
       "0  1996      8   13.4  20.4   7.3   16.6   10.3  109.4  5.3  8.3    34       \n",
       "1  1996     10    9.7               12.5    7.0                              \n",
       "2  1996     11    5.0                7.6    2.5                              \n",
       "\n",
       "   day  \n",
       "0    1  \n",
       "1    1  \n",
       "2    1  "
      ]
     },
     "execution_count": 35,
     "metadata": {},
     "output_type": "execute_result"
    }
   ],
   "source": [
    "df[\"day\"] =1\n",
    "df.head(3)"
   ]
  },
  {
   "cell_type": "code",
   "execution_count": 36,
   "metadata": {},
   "outputs": [
    {
     "data": {
      "text/plain": [
       "0     1996-08-01\n",
       "1     1996-10-01\n",
       "2     1996-11-01\n",
       "3     1996-12-01\n",
       "4     1997-01-01\n",
       "         ...    \n",
       "333   2024-06-01\n",
       "334   2024-07-01\n",
       "335   2024-08-01\n",
       "336   2024-09-01\n",
       "337   2024-10-01\n",
       "Name: date, Length: 338, dtype: datetime64[ns]"
      ]
     },
     "execution_count": 36,
     "metadata": {},
     "output_type": "execute_result"
    }
   ],
   "source": [
    "df[\"date\"] = pd.to_datetime(df[[\"year\", \"month\", \"day\"]])\n",
    "df[\"date\"]"
   ]
  },
  {
   "cell_type": "code",
   "execution_count": 37,
   "metadata": {},
   "outputs": [
    {
     "data": {
      "text/plain": [
       "<Axes: xlabel='date', ylabel='meant'>"
      ]
     },
     "execution_count": 37,
     "metadata": {},
     "output_type": "execute_result"
    },
    {
     "data": {
      "image/png": "[encoded data removed]",
      "text/plain": [
       "<Figure size 640x480 with 1 Axes>"
      ]
     },
     "metadata": {},
     "output_type": "display_data"
    }
   ],
   "source": [
    "sns.lineplot(data=df, x=\"date\", y=\"meant\")"
   ]
  },
  {
   "cell_type": "code",
   "execution_count": 38,
   "metadata": {},
   "outputs": [
    {
     "data": {
      "text/html": [
       "<div>\n",
       "<style scoped>\n",
       "    .dataframe tbody tr th:only-of-type {\n",
       "        vertical-align: middle;\n",
       "    }\n",
       "\n",
       "    .dataframe tbody tr th {\n",
       "        vertical-align: top;\n",
       "    }\n",
       "\n",
       "    .dataframe thead th {\n",
       "        text-align: right;\n",
       "    }\n",
       "</style>\n",
       "<table border=\"1\" class=\"dataframe\">\n",
       "  <thead>\n",
       "    <tr style=\"text-align: right;\">\n",
       "      <th></th>\n",
       "      <th>year</th>\n",
       "      <th>month</th>\n",
       "      <th>meant</th>\n",
       "      <th>maxtp</th>\n",
       "      <th>mintp</th>\n",
       "      <th>mnmax</th>\n",
       "      <th>mnmin</th>\n",
       "      <th>rain</th>\n",
       "      <th>gmin</th>\n",
       "      <th>wdsp</th>\n",
       "      <th>maxgt</th>\n",
       "      <th>sun</th>\n",
       "      <th>day</th>\n",
       "    </tr>\n",
       "    <tr>\n",
       "      <th>date</th>\n",
       "      <th></th>\n",
       "      <th></th>\n",
       "      <th></th>\n",
       "      <th></th>\n",
       "      <th></th>\n",
       "      <th></th>\n",
       "      <th></th>\n",
       "      <th></th>\n",
       "      <th></th>\n",
       "      <th></th>\n",
       "      <th></th>\n",
       "      <th></th>\n",
       "      <th></th>\n",
       "    </tr>\n",
       "  </thead>\n",
       "  <tbody>\n",
       "    <tr>\n",
       "      <th>1996-08-01</th>\n",
       "      <td>1996</td>\n",
       "      <td>8</td>\n",
       "      <td>13.4</td>\n",
       "      <td>20.4</td>\n",
       "      <td>7.3</td>\n",
       "      <td>16.6</td>\n",
       "      <td>10.3</td>\n",
       "      <td>109.4</td>\n",
       "      <td>5.3</td>\n",
       "      <td>8.3</td>\n",
       "      <td>34</td>\n",
       "      <td></td>\n",
       "      <td>1</td>\n",
       "    </tr>\n",
       "    <tr>\n",
       "      <th>1996-10-01</th>\n",
       "      <td>1996</td>\n",
       "      <td>10</td>\n",
       "      <td>9.7</td>\n",
       "      <td></td>\n",
       "      <td></td>\n",
       "      <td>12.5</td>\n",
       "      <td>7.0</td>\n",
       "      <td></td>\n",
       "      <td></td>\n",
       "      <td></td>\n",
       "      <td></td>\n",
       "      <td></td>\n",
       "      <td>1</td>\n",
       "    </tr>\n",
       "    <tr>\n",
       "      <th>1996-11-01</th>\n",
       "      <td>1996</td>\n",
       "      <td>11</td>\n",
       "      <td>5.0</td>\n",
       "      <td></td>\n",
       "      <td></td>\n",
       "      <td>7.6</td>\n",
       "      <td>2.5</td>\n",
       "      <td></td>\n",
       "      <td></td>\n",
       "      <td></td>\n",
       "      <td></td>\n",
       "      <td></td>\n",
       "      <td>1</td>\n",
       "    </tr>\n",
       "  </tbody>\n",
       "</table>\n",
       "</div>"
      ],
      "text/plain": [
       "            year  month  meant maxtp mintp  mnmax  mnmin   rain gmin wdsp  \\\n",
       "date                                                                        \n",
       "1996-08-01  1996      8   13.4  20.4   7.3   16.6   10.3  109.4  5.3  8.3   \n",
       "1996-10-01  1996     10    9.7               12.5    7.0                    \n",
       "1996-11-01  1996     11    5.0                7.6    2.5                    \n",
       "\n",
       "           maxgt sun  day  \n",
       "date                       \n",
       "1996-08-01    34        1  \n",
       "1996-10-01              1  \n",
       "1996-11-01              1  "
      ]
     },
     "execution_count": 38,
     "metadata": {},
     "output_type": "execute_result"
    }
   ],
   "source": [
    "df.set_index(\"date\", inplace = True)\n",
    "df.head(3)"
   ]
  },
  {
   "cell_type": "code",
   "execution_count": 39,
   "metadata": {},
   "outputs": [
    {
     "data": {
      "text/plain": [
       "date\n",
       "1996-08-01    13.4\n",
       "1996-08-02     NaN\n",
       "1996-08-03     NaN\n",
       "1996-08-04     NaN\n",
       "1996-08-05     NaN\n",
       "              ... \n",
       "2024-09-27     NaN\n",
       "2024-09-28     NaN\n",
       "2024-09-29     NaN\n",
       "2024-09-30     NaN\n",
       "2024-10-01    10.1\n",
       "Freq: D, Name: meant, Length: 10289, dtype: float64"
      ]
     },
     "execution_count": 39,
     "metadata": {},
     "output_type": "execute_result"
    }
   ],
   "source": [
    "df[\"meant\"].resample(\"1d\").mean()"
   ]
  },
  {
   "cell_type": "code",
   "execution_count": null,
   "metadata": {},
   "outputs": [],
   "source": []
  }
 ],
 "metadata": {
  "kernelspec": {
   "display_name": "base",
   "language": "python",
   "name": "python3"
  },
  "language_info": {
   "codemirror_mode": {
    "name": "ipython",
    "version": 3
   },
   "file_extension": ".py",
   "mimetype": "text/x-python",
   "name": "python",
   "nbconvert_exporter": "python",
   "pygments_lexer": "ipython3",
   "version": "3.11.7"
  }
 },
 "nbformat": 4,
 "nbformat_minor": 2
}
