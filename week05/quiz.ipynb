{
 "cells": [
  {
   "cell_type": "code",
   "execution_count": null,
   "metadata": {},
   "outputs": [],
   "source": [
    "numberOfQuestions = 5\n",
    "averageAge = 23.4\n",
    "debugMode = True\n",
    "name = \"joe\"\n",
    "ages = []\n",
    "months = ('Jan', 'Feb', 'Mar')\n",
    "book = {}\n",
    "stuff = [ 12 , 'Fred', False, {}]\n",
    "someone = dict(firstname = \"joe\")\n",
    "me = {\n",
    "\"firstName\" : \"Andrew\",\n",
    "\"teaching\" : [{\n",
    "\"courseName\" : \"programming\",\n",
    "\"semester\" : 1\n",
    "},{\n",
    "\"courseName\" : \"Data Representation\",\n",
    "\"semester\" : 2\n",
    "}\n",
    "]\n",
    "}\n"
   ]
  },
  {
   "cell_type": "markdown",
   "metadata": {},
   "source": [
    "#### What are the variable types of the following variables in the code above? \n",
    "'''''\n",
    "###### numberofQuestions: integer\n",
    "###### averageAge: float\n",
    "###### debugMode: Boolean\n",
    "###### name: string\n",
    "###### ages: list  <b>Ordered collection of data, mutable [] </b>\n",
    "###### months: tuple <b> Ordered collection of data, immutable ()</b> \n",
    "###### book: set <b> Unordered collection of data</b>\n",
    "###### stuff: list\n",
    "###### \n",
    "###### me: dictionary "
   ]
  },
  {
   "cell_type": "code",
   "execution_count": null,
   "metadata": {},
   "outputs": [],
   "source": []
  },
  {
   "cell_type": "markdown",
   "metadata": {},
   "source": []
  }
 ],
 "metadata": {
  "language_info": {
   "name": "python"
  }
 },
 "nbformat": 4,
 "nbformat_minor": 2
}
