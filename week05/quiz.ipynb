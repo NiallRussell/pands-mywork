{
 "cells": [
  {
   "cell_type": "code",
   "execution_count": null,
   "metadata": {},
   "outputs": [],
   "source": [
    "numberOfQuestions = 5\n",
    "averageAge = 23.4\n",
    "debugMode = True\n",
    "name = \"joe\"\n",
    "ages = []\n",
    "months = ('Jan', 'Feb', 'Mar')\n",
    "book = {}\n",
    "stuff = [ 12 , 'Fred', False, {}]\n",
    "someone = dict(firstname = \"joe\")\n",
    "me = {\n",
    "\"firstName\" : \"Andrew\",\n",
    "\"teaching\" : [{\n",
    "\"courseName\" : \"programming\",\n",
    "\"semester\" : 1\n",
    "},{\n",
    "\"courseName\" : \"Data Representation\",\n",
    "\"semester\" : 2\n",
    "}\n",
    "]\n",
    "}\n"
   ]
  },
  {
   "cell_type": "markdown",
   "metadata": {},
   "source": [
    "#### What are the variable types of the following variables in the code above? \n",
    "\n",
    "###### numberofQuestions: integer\n",
    "###### averageAge: float\n",
    "###### debugMode: Boolean\n",
    "###### name: string\n",
    "###### ages: list  <b>Ordered collection of data, mutable [] </b>\n",
    "###### months: tuple <b> Ordered collection of data, immutable ()</b> \n",
    "###### months[1]: string\n",
    "###### book: set <b> Unordered collection of data</b>\n",
    "###### stuff: list\n",
    "###### stuff [2]: boolean\n",
    "###### someone: dictionary\n",
    "###### someone[\"firstname\"]: string\n",
    "###### me: dictionary \n",
    "###### me[\"teaching\"]: dictionary\n",
    "###### me[\"teaching\"][0][\"semester\"]: integer\n",
    "###### me[\"teaching\"][0][\"coursename\"]: string"
   ]
  },
  {
   "cell_type": "code",
   "execution_count": 5,
   "metadata": {},
   "outputs": [
    {
     "name": "stdout",
     "output_type": "stream",
     "text": [
      "May\n",
      "Jun\n",
      "Jul\n"
     ]
    }
   ],
   "source": [
    "months = (\"Jan\", \"Feb\", \"Mar\", \"Apr\", \"May\", \"Jun\", \"Jul\", \"Aug\", \"Sep\", \"Oct\", \"Nov\", \"Dec\")\n",
    "summer = months[4:7]\n",
    "for value in summer:\n",
    "    print(value)"
   ]
  },
  {
   "cell_type": "code",
   "execution_count": 8,
   "metadata": {},
   "outputs": [
    {
     "name": "stdout",
     "output_type": "stream",
     "text": [
      "queue is [1, 92, 34, 94, 21, 65, 9, 73, 61, 76]\n",
      "current number is 1 and the queue is [92, 34, 94, 21, 65, 9, 73, 61, 76]\n",
      "current number is 92 and the queue is [34, 94, 21, 65, 9, 73, 61, 76]\n",
      "current number is 34 and the queue is [94, 21, 65, 9, 73, 61, 76]\n",
      "current number is 94 and the queue is [21, 65, 9, 73, 61, 76]\n",
      "current number is 21 and the queue is [65, 9, 73, 61, 76]\n",
      "current number is 65 and the queue is [9, 73, 61, 76]\n",
      "current number is 9 and the queue is [73, 61, 76]\n",
      "current number is 73 and the queue is [61, 76]\n",
      "current number is 61 and the queue is [76]\n",
      "current number is 76 and the queue is []\n",
      "The queue is now empty\n"
     ]
    }
   ],
   "source": [
    "import random\n",
    "queue = []\n",
    "number_of_numbers = 10\n",
    "range_to = 100\n",
    "\n",
    "for i in range(0, number_of_numbers):\n",
    "    queue.append(random.randint(0, range_to))\n",
    "print (f\"queue is {queue}\")\n",
    "\n",
    "while len(queue) != 0:\n",
    "    current = queue.pop(0)\n",
    "    print(f\"current number is {current} and the queue is {queue}\")\n",
    "print (\"The queue is now empty\")"
   ]
  },
  {
   "cell_type": "code",
   "execution_count": 1,
   "metadata": {},
   "outputs": [],
   "source": [
    "# Write a program that stores a student name and a list of her courses and \n",
    "#grades in a dict, the program should then print out her data.\n",
    "#The number of course she has could change.\n",
    "\n",
    "student = {\n",
    "    \"name\":\"Mary\", \n",
    "           \"courses\": [\n",
    "               {\n",
    "                    \"course_name\":\"Programming\",\n",
    "                    \"grade\":45    \n",
    "               },\n",
    "               {\n",
    "                   \"course_name\":\"History\",\n",
    "                   \"grade\":99\n",
    "               }\n",
    "           ]\n",
    "}\n"
   ]
  },
  {
   "cell_type": "code",
   "execution_count": 2,
   "metadata": {},
   "outputs": [
    {
     "name": "stdout",
     "output_type": "stream",
     "text": [
      "Student: Mary\n",
      "\t Programming: \t 45\n",
      "\t History: \t 99\n"
     ]
    }
   ],
   "source": [
    "print(\"Student: {}\".format(student[\"name\"]))\n",
    "for course in student[\"courses\"]:\n",
    "    print (\"\\t {}: \\t {}\".format(course[\"course_name\"], course[\"grade\"]))"
   ]
  },
  {
   "cell_type": "markdown",
   "metadata": {},
   "source": [
    " 5. Write a program that will read in the data for the data structure above, ie reads in a student’s name, then keeps reading in their modules and grades(until the user enters a blank module name), You can break this up into two parts:\n",
    "a. Just read in the module names until the user enters blank, b. Then read in the grade as well\n",
    "b. This program can just read in one student (and their module details).\n",
    "6. If you want to go a step further, read in multiple students (until the student_name is blank. \n"
   ]
  },
  {
   "cell_type": "code",
   "execution_count": null,
   "metadata": {},
   "outputs": [],
   "source": [
    "student_name = input(\"Enter the student's name:\")\n",
    "student = {}\n",
    "student[\"name\"] =  student_name\n"
   ]
  },
  {
   "cell_type": "code",
   "execution_count": 2,
   "metadata": {},
   "outputs": [
    {
     "name": "stdout",
     "output_type": "stream",
     "text": [
      "Student: Niall\n",
      "\tfg \t: 56\n",
      "\tjg \t: 67\n",
      "{'name': 'Niall', 'modules': [{'courseName': 'fg', 'grade': 56}, {'courseName': 'jg', 'grade': 67}]}\n"
     ]
    }
   ],
   "source": [
    "name = input(\"Enter the students name: \")\n",
    "modules = []\n",
    "student = {}\n",
    "student[\"name\"] = name\n",
    "courseName = str(input(\"Enter the name of the module: \"))\n",
    "while courseName != \"\":\n",
    "    module = {}\n",
    "    module[\"courseName\"] = courseName\n",
    "    module[\"grade\"] = int(input(\"Enter the grade for {}: \".format(courseName)))\n",
    "    modules.append(module)\n",
    "    student[\"modules\"] = modules\n",
    "    module = {}\n",
    "    courseName = input(\"Enter the name of the module: \")\n",
    "print(\"Student: {}\".format(student[\"name\"]))\n",
    "for module in student[\"modules\"]:\n",
    "    print(\"\\t{} \\t: {}\".format(module[\"courseName\"], module[\"grade\"]))\n",
    "print(student)"
   ]
  },
  {
   "cell_type": "code",
   "execution_count": null,
   "metadata": {},
   "outputs": [],
   "source": []
  }
 ],
 "metadata": {
  "kernelspec": {
   "display_name": "base",
   "language": "python",
   "name": "python3"
  },
  "language_info": {
   "codemirror_mode": {
    "name": "ipython",
    "version": 3
   },
   "file_extension": ".py",
   "mimetype": "text/x-python",
   "name": "python",
   "nbconvert_exporter": "python",
   "pygments_lexer": "ipython3",
   "version": "3.11.5"
  }
 },
 "nbformat": 4,
 "nbformat_minor": 2
}
